{
 "cells": [
  {
   "cell_type": "markdown",
   "id": "f617c857-e182-4999-952e-08c4ba7ca1f3",
   "metadata": {},
   "source": [
    "# Exploratory Anlysis of HC data"
   ]
  },
  {
   "cell_type": "code",
   "execution_count": 1,
   "id": "2b042978-f11e-45fa-b390-1bc17896a3fc",
   "metadata": {
    "tags": []
   },
   "outputs": [],
   "source": [
    "# module imports\n",
    "import pandas as pd\n",
    "import os\n",
    "import matplotlib.pyplot as plt\n",
    "import numpy as np"
   ]
  },
  {
   "cell_type": "code",
   "execution_count": 2,
   "id": "a7fd6522",
   "metadata": {},
   "outputs": [],
   "source": [
    "pd.set_option('display.max_colwidth', None)"
   ]
  },
  {
   "cell_type": "code",
   "execution_count": 3,
   "id": "6c481477-9d4e-4e19-9cec-33bb29fec8f1",
   "metadata": {
    "tags": []
   },
   "outputs": [],
   "source": [
    "path = r'C:\\Users\\awnet\\Documents\\GitHub\\HCAHPSPatientSurvey\\HCAHPSPatientSurveyFiles\\data_tables'"
   ]
  },
  {
   "cell_type": "code",
   "execution_count": 4,
   "id": "0716745e-6ea8-4152-afc4-c4d0bd07cb75",
   "metadata": {},
   "outputs": [],
   "source": [
    "##names = ['measures','national_results','questions','reports','responses','states','state_results']\n",
    "df_list = []\n",
    "os.chdir(path)\n",
    "for file in os.listdir():\n",
    "    if file.endswith(\".csv\"):\n",
    "        df_list.append(pd.read_csv(file))"
   ]
  },
  {
   "cell_type": "code",
   "execution_count": 5,
   "id": "21b2d860-3387-4a54-82af-6851a0403aba",
   "metadata": {
    "tags": []
   },
   "outputs": [],
   "source": [
    "measures_df = df_list[0]\n",
    "national_results_df = df_list[1]\n",
    "questions_df = df_list[2]\n",
    "reports_df = df_list[3]\n",
    "responses_df = df_list[4]\n",
    "states_df = df_list[5]\n",
    "state_results_df = df_list[6]"
   ]
  },
  {
   "cell_type": "code",
   "execution_count": 6,
   "id": "b7324dc9-218f-412d-979b-d775bd57ea27",
   "metadata": {
    "tags": []
   },
   "outputs": [
    {
     "data": {
      "text/html": [
       "<div>\n",
       "<style scoped>\n",
       "    .dataframe tbody tr th:only-of-type {\n",
       "        vertical-align: middle;\n",
       "    }\n",
       "\n",
       "    .dataframe tbody tr th {\n",
       "        vertical-align: top;\n",
       "    }\n",
       "\n",
       "    .dataframe thead th {\n",
       "        text-align: right;\n",
       "    }\n",
       "</style>\n",
       "<table border=\"1\" class=\"dataframe\">\n",
       "  <thead>\n",
       "    <tr style=\"text-align: right;\">\n",
       "      <th></th>\n",
       "      <th>Release Period</th>\n",
       "      <th>State</th>\n",
       "      <th>Facility ID</th>\n",
       "      <th>Completed Surveys</th>\n",
       "      <th>Response Rate (%)</th>\n",
       "    </tr>\n",
       "  </thead>\n",
       "  <tbody>\n",
       "    <tr>\n",
       "      <th>0</th>\n",
       "      <td>07_2015</td>\n",
       "      <td>AL</td>\n",
       "      <td>10001</td>\n",
       "      <td>300 or more</td>\n",
       "      <td>27</td>\n",
       "    </tr>\n",
       "    <tr>\n",
       "      <th>1</th>\n",
       "      <td>07_2015</td>\n",
       "      <td>AL</td>\n",
       "      <td>10005</td>\n",
       "      <td>300 or more</td>\n",
       "      <td>37</td>\n",
       "    </tr>\n",
       "    <tr>\n",
       "      <th>2</th>\n",
       "      <td>07_2015</td>\n",
       "      <td>AL</td>\n",
       "      <td>10006</td>\n",
       "      <td>300 or more</td>\n",
       "      <td>25</td>\n",
       "    </tr>\n",
       "    <tr>\n",
       "      <th>3</th>\n",
       "      <td>07_2015</td>\n",
       "      <td>AL</td>\n",
       "      <td>10007</td>\n",
       "      <td>Between 100 and 299</td>\n",
       "      <td>30</td>\n",
       "    </tr>\n",
       "    <tr>\n",
       "      <th>4</th>\n",
       "      <td>07_2015</td>\n",
       "      <td>AL</td>\n",
       "      <td>10008</td>\n",
       "      <td>Fewer than 100</td>\n",
       "      <td>28</td>\n",
       "    </tr>\n",
       "  </tbody>\n",
       "</table>\n",
       "</div>"
      ],
      "text/plain": [
       "  Release Period State Facility ID    Completed Surveys Response Rate (%)\n",
       "0        07_2015    AL       10001          300 or more                27\n",
       "1        07_2015    AL       10005          300 or more                37\n",
       "2        07_2015    AL       10006          300 or more                25\n",
       "3        07_2015    AL       10007  Between 100 and 299                30\n",
       "4        07_2015    AL       10008       Fewer than 100                28"
      ]
     },
     "execution_count": 6,
     "metadata": {},
     "output_type": "execute_result"
    }
   ],
   "source": [
    "responses_df.head()"
   ]
  },
  {
   "cell_type": "code",
   "execution_count": 7,
   "id": "d4d9e25e-e2d4-4561-b93c-25bc1bebd076",
   "metadata": {
    "tags": []
   },
   "outputs": [],
   "source": [
    "responses_df['Release Period'] = responses_df['Release Period'].str.replace('_','/')"
   ]
  },
  {
   "cell_type": "code",
   "execution_count": 8,
   "id": "b01d5df7",
   "metadata": {},
   "outputs": [
    {
     "data": {
      "text/plain": [
       "Release Period       object\n",
       "State                object\n",
       "Facility ID          object\n",
       "Completed Surveys    object\n",
       "Response Rate (%)    object\n",
       "dtype: object"
      ]
     },
     "execution_count": 8,
     "metadata": {},
     "output_type": "execute_result"
    }
   ],
   "source": [
    "responses_df.dtypes"
   ]
  },
  {
   "cell_type": "code",
   "execution_count": 9,
   "id": "a805e049-1639-4c16-b48c-7b3316db3a35",
   "metadata": {},
   "outputs": [],
   "source": [
    "\n",
    "##Remove rows and facility ID's that produced not available.  It is unclear why they are not available.\n",
    "##Could be do to no participating, not sharing, or combination of other factors.\n",
    "\n",
    "not_available = responses_df[ (responses_df['Response Rate (%)'] == 'Not Available')].index\n",
    "responses_df.drop(not_available , inplace=True)\n",
    "\n",
    "responses_df['Response Rate (%)'] = responses_df['Response Rate (%)'].astype(np.int64)"
   ]
  },
  {
   "cell_type": "code",
   "execution_count": 10,
   "id": "e48e8b66",
   "metadata": {},
   "outputs": [
    {
     "data": {
      "image/png": "[encoded data removed]",
      "text/plain": [
       "<Figure size 640x480 with 1 Axes>"
      ]
     },
     "metadata": {},
     "output_type": "display_data"
    }
   ],
   "source": [
    "%matplotlib inline\n",
    "outliers = responses_df[responses_df['Response Rate (%)']<28]\n",
    "_=outliers['Response Rate (%)'].plot.hist(title=\"Less Than < 20\")"
   ]
  },
  {
   "cell_type": "code",
   "execution_count": 11,
   "id": "145da21a",
   "metadata": {},
   "outputs": [
    {
     "name": "stdout",
     "output_type": "stream",
     "text": [
      "The average response rate is: \"26.61\"\n",
      "The standard deviation of response rate is: \"9.16\"\n"
     ]
    }
   ],
   "source": [
    "avg = np.mean(responses_df['Response Rate (%)'])\n",
    "sd = np.std(responses_df['Response Rate (%)'])\n",
    "\n",
    "# Find upper and lower bound for outliers\n",
    "print('The average response rate is: \"{0:0.2f}\"'.format(avg))\n",
    "print('The standard deviation of response rate is: \"{0:0.2f}\"'.format(sd))\n",
    "\n"
   ]
  },
  {
   "cell_type": "code",
   "execution_count": 12,
   "id": "00253a6d",
   "metadata": {},
   "outputs": [],
   "source": [
    "def normalize(df, pd_series_name, nsd=2):\n",
    "    '''\n",
    "    Take all values that are outside some bound (mean +- 2 sd by default)\n",
    "    and convert them to the appropriate bound.\n",
    "    '''\n",
    "    df = df.copy()\n",
    "    pd_series = df[pd_series_name].astype(float)\n",
    "\n",
    "    # Find upper and lower bound for outliers\n",
    "    avg = np.mean(pd_series)\n",
    "    sd  = np.std(pd_series)\n",
    "\n",
    "    # Calculate the bounds\n",
    "    lower_bound = avg - nsd*sd\n",
    "    upper_bound = avg + nsd*sd\n",
    "\n",
    "    # Collapse in the outliers: replace them with appropriate bound\n",
    "    df.loc[pd_series < lower_bound , pd_series_name ] = lower_bound\n",
    "    df.loc[pd_series > upper_bound , pd_series_name ] = upper_bound\n",
    "    \n",
    "    return (df[pd_series_name] - avg) / sd"
   ]
  },
  {
   "cell_type": "code",
   "execution_count": 13,
   "id": "4e46f091",
   "metadata": {},
   "outputs": [],
   "source": [
    "responses_df_normalized = responses_df.copy()"
   ]
  },
  {
   "cell_type": "code",
   "execution_count": 14,
   "id": "64223956",
   "metadata": {},
   "outputs": [],
   "source": [
    "responses_df_normalized['Responses Normalized'] = normalize(responses_df,'Response Rate (%)')"
   ]
  },
  {
   "cell_type": "code",
   "execution_count": 15,
   "id": "a02f789a",
   "metadata": {},
   "outputs": [
    {
     "data": {
      "text/html": [
       "<div>\n",
       "<style scoped>\n",
       "    .dataframe tbody tr th:only-of-type {\n",
       "        vertical-align: middle;\n",
       "    }\n",
       "\n",
       "    .dataframe tbody tr th {\n",
       "        vertical-align: top;\n",
       "    }\n",
       "\n",
       "    .dataframe thead th {\n",
       "        text-align: right;\n",
       "    }\n",
       "</style>\n",
       "<table border=\"1\" class=\"dataframe\">\n",
       "  <thead>\n",
       "    <tr style=\"text-align: right;\">\n",
       "      <th></th>\n",
       "      <th>Release Period</th>\n",
       "      <th>State</th>\n",
       "      <th>Facility ID</th>\n",
       "      <th>Completed Surveys</th>\n",
       "      <th>Response Rate (%)</th>\n",
       "      <th>Responses Normalized</th>\n",
       "    </tr>\n",
       "  </thead>\n",
       "  <tbody>\n",
       "    <tr>\n",
       "      <th>0</th>\n",
       "      <td>07/2015</td>\n",
       "      <td>AL</td>\n",
       "      <td>10001</td>\n",
       "      <td>300 or more</td>\n",
       "      <td>27</td>\n",
       "      <td>0.042692</td>\n",
       "    </tr>\n",
       "    <tr>\n",
       "      <th>1</th>\n",
       "      <td>07/2015</td>\n",
       "      <td>AL</td>\n",
       "      <td>10005</td>\n",
       "      <td>300 or more</td>\n",
       "      <td>37</td>\n",
       "      <td>1.134928</td>\n",
       "    </tr>\n",
       "    <tr>\n",
       "      <th>2</th>\n",
       "      <td>07/2015</td>\n",
       "      <td>AL</td>\n",
       "      <td>10006</td>\n",
       "      <td>300 or more</td>\n",
       "      <td>25</td>\n",
       "      <td>-0.175755</td>\n",
       "    </tr>\n",
       "    <tr>\n",
       "      <th>3</th>\n",
       "      <td>07/2015</td>\n",
       "      <td>AL</td>\n",
       "      <td>10007</td>\n",
       "      <td>Between 100 and 299</td>\n",
       "      <td>30</td>\n",
       "      <td>0.370363</td>\n",
       "    </tr>\n",
       "    <tr>\n",
       "      <th>4</th>\n",
       "      <td>07/2015</td>\n",
       "      <td>AL</td>\n",
       "      <td>10008</td>\n",
       "      <td>Fewer than 100</td>\n",
       "      <td>28</td>\n",
       "      <td>0.151916</td>\n",
       "    </tr>\n",
       "    <tr>\n",
       "      <th>...</th>\n",
       "      <td>...</td>\n",
       "      <td>...</td>\n",
       "      <td>...</td>\n",
       "      <td>...</td>\n",
       "      <td>...</td>\n",
       "      <td>...</td>\n",
       "    </tr>\n",
       "    <tr>\n",
       "      <th>43207</th>\n",
       "      <td>07/2023</td>\n",
       "      <td>TX</td>\n",
       "      <td>670143</td>\n",
       "      <td>42</td>\n",
       "      <td>28</td>\n",
       "      <td>0.151916</td>\n",
       "    </tr>\n",
       "    <tr>\n",
       "      <th>43208</th>\n",
       "      <td>07/2023</td>\n",
       "      <td>TX</td>\n",
       "      <td>670259</td>\n",
       "      <td>34</td>\n",
       "      <td>34</td>\n",
       "      <td>0.807257</td>\n",
       "    </tr>\n",
       "    <tr>\n",
       "      <th>43209</th>\n",
       "      <td>07/2023</td>\n",
       "      <td>TX</td>\n",
       "      <td>670260</td>\n",
       "      <td>454</td>\n",
       "      <td>14</td>\n",
       "      <td>-1.377216</td>\n",
       "    </tr>\n",
       "    <tr>\n",
       "      <th>43214</th>\n",
       "      <td>07/2023</td>\n",
       "      <td>TX</td>\n",
       "      <td>670300</td>\n",
       "      <td>186</td>\n",
       "      <td>15</td>\n",
       "      <td>-1.267992</td>\n",
       "    </tr>\n",
       "    <tr>\n",
       "      <th>43215</th>\n",
       "      <td>07/2023</td>\n",
       "      <td>TX</td>\n",
       "      <td>670309</td>\n",
       "      <td>164</td>\n",
       "      <td>12</td>\n",
       "      <td>-1.595663</td>\n",
       "    </tr>\n",
       "  </tbody>\n",
       "</table>\n",
       "<p>37445 rows × 6 columns</p>\n",
       "</div>"
      ],
      "text/plain": [
       "      Release Period State Facility ID    Completed Surveys  \\\n",
       "0            07/2015    AL       10001          300 or more   \n",
       "1            07/2015    AL       10005          300 or more   \n",
       "2            07/2015    AL       10006          300 or more   \n",
       "3            07/2015    AL       10007  Between 100 and 299   \n",
       "4            07/2015    AL       10008       Fewer than 100   \n",
       "...              ...   ...         ...                  ...   \n",
       "43207        07/2023    TX      670143                   42   \n",
       "43208        07/2023    TX      670259                   34   \n",
       "43209        07/2023    TX      670260                  454   \n",
       "43214        07/2023    TX      670300                  186   \n",
       "43215        07/2023    TX      670309                  164   \n",
       "\n",
       "       Response Rate (%)  Responses Normalized  \n",
       "0                     27              0.042692  \n",
       "1                     37              1.134928  \n",
       "2                     25             -0.175755  \n",
       "3                     30              0.370363  \n",
       "4                     28              0.151916  \n",
       "...                  ...                   ...  \n",
       "43207                 28              0.151916  \n",
       "43208                 34              0.807257  \n",
       "43209                 14             -1.377216  \n",
       "43214                 15             -1.267992  \n",
       "43215                 12             -1.595663  \n",
       "\n",
       "[37445 rows x 6 columns]"
      ]
     },
     "execution_count": 15,
     "metadata": {},
     "output_type": "execute_result"
    }
   ],
   "source": [
    "responses_df_normalized"
   ]
  },
  {
   "cell_type": "code",
   "execution_count": null,
   "id": "3589b0ee",
   "metadata": {},
   "outputs": [],
   "source": []
  }
 ],
 "metadata": {
  "kernelspec": {
   "display_name": "Python 3 (ipykernel)",
   "language": "python",
   "name": "python3"
  },
  "language_info": {
   "codemirror_mode": {
    "name": "ipython",
    "version": 3
   },
   "file_extension": ".py",
   "mimetype": "text/x-python",
   "name": "python",
   "nbconvert_exporter": "python",
   "pygments_lexer": "ipython3",
   "version": "3.11.4"
  }
 },
 "nbformat": 4,
 "nbformat_minor": 5
}
