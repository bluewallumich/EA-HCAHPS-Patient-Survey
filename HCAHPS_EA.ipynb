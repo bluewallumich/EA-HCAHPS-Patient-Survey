{
 "cells": [
  {
   "cell_type": "markdown",
   "id": "f617c857-e182-4999-952e-08c4ba7ca1f3",
   "metadata": {},
   "source": [
    "# Exploratory Anlysis of HC data"
   ]
  },
  {
   "cell_type": "code",
   "execution_count": null,
   "id": "3fac0387",
   "metadata": {},
   "outputs": [],
   "source": [
    "#pip install geopandas\n",
    "#pip install folium"
   ]
  },
  {
   "cell_type": "code",
   "execution_count": null,
   "id": "2b042978-f11e-45fa-b390-1bc17896a3fc",
   "metadata": {
    "tags": []
   },
   "outputs": [],
   "source": [
    "# module imports\n",
    "import os\n",
    "\n",
    "import matplotlib.pyplot as plt\n",
    "\n",
    "import numpy as np\n",
    "\n",
    "import folium\n",
    "import geopandas as gpd\n",
    "from folium.plugins import HeatMap\n",
    "\n",
    "import pandas as pd\n",
    "import json\n",
    "from json import loads, dumps"
   ]
  },
  {
   "cell_type": "code",
   "execution_count": null,
   "id": "a7fd6522",
   "metadata": {},
   "outputs": [],
   "source": [
    "pd.set_option('display.max_colwidth', None)\n",
    "path = \"./HCAHPSPatientSurveyFiles/data_tables/\""
   ]
  },
  {
   "cell_type": "code",
   "execution_count": null,
   "id": "6c481477-9d4e-4e19-9cec-33bb29fec8f1",
   "metadata": {
    "tags": []
   },
   "outputs": [],
   "source": [
    "measures_df = pd.read_csv(\"./HCAHPSPatientSurveyFiles/data_tables/measures.csv\")\n",
    "national_results_df = pd.read_csv('./HCAHPSPatientSurveyFiles/data_tables/national_results.csv')\n",
    "questions_df = pd.read_csv('./HCAHPSPatientSurveyFiles/data_tables/questions.csv')\n",
    "reports_df = pd.read_csv('./HCAHPSPatientSurveyFiles/data_tables/reports.csv')\n",
    "responses_df = pd.read_csv('./HCAHPSPatientSurveyFiles/data_tables/responses.csv')\n",
    "states_df = pd.read_csv('./HCAHPSPatientSurveyFiles/data_tables/states.csv')\n",
    "state_results_df = pd.read_csv('./HCAHPSPatientSurveyFiles/data_tables/state_results.csv')"
   ]
  },
  {
   "cell_type": "code",
   "execution_count": null,
   "id": "9cc1481c",
   "metadata": {},
   "outputs": [],
   "source": [
    "##For future reference put in list and iterate through list.  Might save on lines of code but unsure of speed\n",
    "#Strip Whitespace from columns\n",
    "measures_strip = measures_df.applymap(lambda x: x.strip() if isinstance(x, str) else x)\n",
    "national_results_strip_df = national_results_df.applymap(lambda x: x.strip() if isinstance(x, str) else x)\n",
    "questions_strip_df = questions_df.applymap(lambda x: x.strip() if isinstance(x, str) else x)\n",
    "reports_strip_df = reports_df.applymap(lambda x: x.strip() if isinstance(x, str) else x)\n",
    "responses_strip_df = responses_df.applymap(lambda x: x.strip() if isinstance(x, str) else x)\n",
    "states_strip_df = states_df.applymap(lambda x: x.strip() if isinstance(x, str) else x)\n",
    "state_results_strip_df = state_results_df.applymap(lambda x: x.strip() if isinstance(x, str) else x)"
   ]
  },
  {
   "cell_type": "code",
   "execution_count": null,
   "id": "0716745e-6ea8-4152-afc4-c4d0bd07cb75",
   "metadata": {},
   "outputs": [],
   "source": [
    "# ##names = ['measures','national_results','questions','reports','responses','states','state_results']\n",
    "# df_list = []\n",
    "# os.chdir(path)\n",
    "# for file in os.listdir():\n",
    "#     if file.endswith(\".csv\"):\n",
    "#         df_list.append(pd.read_csv(file))"
   ]
  },
  {
   "cell_type": "code",
   "execution_count": null,
   "id": "21b2d860-3387-4a54-82af-6851a0403aba",
   "metadata": {
    "tags": []
   },
   "outputs": [],
   "source": [
    "# measures_df = df_list[0]\n",
    "# national_results_df = df_list[1]\n",
    "# questions_df = df_list[2]\n",
    "# reports_df = df_list[3]\n",
    "# responses_df = df_list[4]\n",
    "# states_df = df_list[5]\n",
    "# state_results_df = df_list[6]"
   ]
  },
  {
   "cell_type": "code",
   "execution_count": null,
   "id": "b7324dc9-218f-412d-979b-d775bd57ea27",
   "metadata": {
    "tags": []
   },
   "outputs": [],
   "source": [
    "responses_strip_df.head()"
   ]
  },
  {
   "cell_type": "code",
   "execution_count": null,
   "id": "d4d9e25e-e2d4-4561-b93c-25bc1bebd076",
   "metadata": {
    "tags": []
   },
   "outputs": [],
   "source": [
    "responses_strip_df['Release Period'] = responses_strip_df['Release Period'].str.replace('_','/')\n"
   ]
  },
  {
   "cell_type": "code",
   "execution_count": null,
   "id": "35364b00",
   "metadata": {},
   "outputs": [],
   "source": [
    "responses_strip_df.dtypes"
   ]
  },
  {
   "cell_type": "code",
   "execution_count": null,
   "id": "a805e049-1639-4c16-b48c-7b3316db3a35",
   "metadata": {},
   "outputs": [],
   "source": [
    "\n",
    "##Remove rows and facility ID's that produced not available.  It is unclear why they are not available.\n",
    "##Could be do to no participating, not sharing, or combination of other factors.\n",
    "\n",
    "not_available = responses_strip_df[ (responses_strip_df['Response Rate (%)'] == 'Not Available')].index\n",
    "responses_strip_df.drop(not_available , inplace=True)\n",
    "\n",
    "responses_strip_df['Response Rate (%)'] = responses_strip_df['Response Rate (%)'].astype(np.int64)"
   ]
  },
  {
   "cell_type": "code",
   "execution_count": null,
   "id": "e48e8b66",
   "metadata": {},
   "outputs": [],
   "source": [
    "%matplotlib inline\n",
    "outliers = responses_strip_df[responses_strip_df['Response Rate (%)']<28]\n",
    "_=outliers['Response Rate (%)'].plot.hist(title=\"Less Than < 20\")"
   ]
  },
  {
   "cell_type": "code",
   "execution_count": null,
   "id": "77a8631c",
   "metadata": {},
   "outputs": [],
   "source": [
    "avg = np.mean(responses_strip_df['Response Rate (%)'])\n",
    "sd = np.std(responses_strip_df['Response Rate (%)'])\n",
    "\n",
    "# Find upper and lower bound for outliers\n",
    "print('The average response rate is: \"{0:0.2f}\"'.format(avg))\n",
    "print('The standard deviation of response rate is: \"{0:0.2f}\"'.format(sd))\n",
    "\n"
   ]
  },
  {
   "cell_type": "code",
   "execution_count": null,
   "id": "edb01178",
   "metadata": {},
   "outputs": [],
   "source": [
    "def normalize(df, pd_series_name, nsd=2):\n",
    "    '''\n",
    "    Take all values that are outside some bound (mean +- 2 sd by default)\n",
    "    and convert them to the appropriate bound.\n",
    "    '''\n",
    "    df = df.copy()\n",
    "    pd_series = df[pd_series_name].astype(float)\n",
    "\n",
    "    # Find upper and lower bound for outliers\n",
    "    avg = np.mean(pd_series)\n",
    "    sd  = np.std(pd_series)\n",
    "\n",
    "    # Calculate the bounds\n",
    "    lower_bound = avg - nsd*sd\n",
    "    upper_bound = avg + nsd*sd\n",
    "\n",
    "    # Collapse in the outliers: replace them with appropriate bound\n",
    "    df.loc[pd_series < lower_bound , pd_series_name ] = lower_bound\n",
    "    df.loc[pd_series > upper_bound , pd_series_name ] = upper_bound\n",
    "    \n",
    "    return (df[pd_series_name] - avg) / sd"
   ]
  },
  {
   "cell_type": "code",
   "execution_count": null,
   "id": "7197fce5",
   "metadata": {},
   "outputs": [],
   "source": [
    "responses_df_normalized = responses_strip_df.copy()"
   ]
  },
  {
   "cell_type": "code",
   "execution_count": null,
   "id": "da8e99d1",
   "metadata": {},
   "outputs": [],
   "source": [
    "responses_df_normalized['Responses Normalized'] = normalize(responses_strip_df,'Response Rate (%)')"
   ]
  },
  {
   "cell_type": "code",
   "execution_count": null,
   "id": "0d35a0c2",
   "metadata": {},
   "outputs": [],
   "source": [
    "responses_df_normalized"
   ]
  },
  {
   "cell_type": "code",
   "execution_count": null,
   "id": "960f834e",
   "metadata": {},
   "outputs": [],
   "source": [
    "states_strip_df.head()"
   ]
  },
  {
   "cell_type": "code",
   "execution_count": null,
   "id": "8deefc77",
   "metadata": {},
   "outputs": [],
   "source": [
    "state_results_strip_df.head()"
   ]
  },
  {
   "cell_type": "code",
   "execution_count": null,
   "id": "e81e5bc5",
   "metadata": {},
   "outputs": [],
   "source": [
    "states_merged = pd.merge(\n",
    "    states_strip_df, state_results_strip_df, how=\"outer\", on=[\"State\"]\n",
    ")"
   ]
  },
  {
   "cell_type": "code",
   "execution_count": null,
   "id": "0aed52ab",
   "metadata": {},
   "outputs": [],
   "source": []
  },
  {
   "cell_type": "code",
   "execution_count": null,
   "id": "c9f47ee9",
   "metadata": {},
   "outputs": [],
   "source": [
    "states_merged.head()"
   ]
  },
  {
   "cell_type": "code",
   "execution_count": null,
   "id": "ba0725ee",
   "metadata": {},
   "outputs": [],
   "source": []
  },
  {
   "cell_type": "code",
   "execution_count": null,
   "id": "a7ee920b",
   "metadata": {},
   "outputs": [],
   "source": [
    "response_merge_states = pd.merge(\n",
    "    states_strip_df, responses_strip_df, how=\"outer\", on=[\"State\"])"
   ]
  },
  {
   "cell_type": "code",
   "execution_count": null,
   "id": "6afcf1c2",
   "metadata": {},
   "outputs": [],
   "source": [
    "response_merge_states"
   ]
  },
  {
   "cell_type": "code",
   "execution_count": null,
   "id": "ad50d13a",
   "metadata": {},
   "outputs": [],
   "source": [
    "response_merge_states['Completed Surveys'].replace({\"FEWER THAN 50\": '25', \"300 or more\": '300',\n",
    "                                                   \"Between 100 and 299\":'250',\"Fewer than 100\":'50'}, inplace=True)"
   ]
  },
  {
   "cell_type": "code",
   "execution_count": null,
   "id": "d709952f",
   "metadata": {},
   "outputs": [],
   "source": [
    "#convert Completed Surveys string to int64\n",
    "response_merge_states['Completed Surveys'] = response_merge_states['Completed Surveys'].astype(np.int64)"
   ]
  },
  {
   "cell_type": "code",
   "execution_count": null,
   "id": "3db294de",
   "metadata": {},
   "outputs": [],
   "source": [
    "max_surveys = response_merge_states['Completed Surveys'].max()\n",
    "min_survyes = response_merge_states['Completed Surveys'].min()\n",
    "print(max_surveys,min_survyes)"
   ]
  },
  {
   "cell_type": "code",
   "execution_count": null,
   "id": "55ad0ef2",
   "metadata": {},
   "outputs": [],
   "source": [
    "# Generate sample data\n",
    "np.random.seed(42)  # to get consistent results\n",
    "num_rows = 37445\n",
    "\n",
    "states = ['AL', 'AK', 'AZ', 'AR', 'CA', 'CO', 'CT', 'DE', 'FL', 'GA',\n",
    "          'HI', 'ID', 'IL', 'IN', 'IA', 'KS', 'KY', 'LA', 'ME', 'MD',\n",
    "          'MA', 'MI', 'MN', 'MS', 'MO', 'MT', 'NE', 'NV', 'NH', 'NJ',\n",
    "          'NM', 'NY', 'NC', 'ND', 'OH', 'OK', 'OR', 'PA', 'RI', 'SC',\n",
    "          'SD', 'TN', 'TX', 'UT', 'VT', 'VA', 'WA', 'WV', 'WI', 'WY','PR']\n",
    "\n",
    "sample_states = np.random.choice(states, num_rows)\n",
    "sample_surveys = np.random.randint(25, 13731, num_rows)\n",
    "\n",
    "df = pd.DataFrame({\n",
    "    'state': sample_states,\n",
    "    'completed_surveys': sample_surveys\n",
    "})\n",
    "\n",
    "# Bar plot for 'state'\n",
    "plt.figure(figsize=(15,6))\n",
    "df['state'].value_counts().plot(kind='bar', color='skyblue', edgecolor='black')\n",
    "plt.title('Count of Rows per State')\n",
    "plt.xlabel('State')\n",
    "plt.ylabel('Count')\n",
    "plt.xticks(rotation=45)\n",
    "plt.show()\n",
    "\n",
    "# Histogram for 'completed_surveys'\n",
    "plt.figure(figsize=(15,6))\n",
    "response_merge_states['Completed Surveys'].hist(bins=5, color='skyblue', edgecolor='black')\n",
    "plt.title('Distribution of Completed Surveys')\n",
    "plt.xlabel('Completed Surveys')\n",
    "plt.ylabel('Frequency')\n",
    "plt.show()"
   ]
  },
  {
   "cell_type": "code",
   "execution_count": null,
   "id": "91de01a2",
   "metadata": {},
   "outputs": [],
   "source": [
    "'''\n",
    "Dont get rid of test code...\n",
    "'''\n",
    "\n",
    "# # data = {\n",
    "# #     \"Completed Surveys\": [\"FEWER THAN 50\",\"300 or more\", \"Between 100 and 299\",\n",
    "# #                           \"Fewer than 100\"]\n",
    "# # }\n",
    "\n",
    "# # df = pd.DataFrame(csvfile)\n",
    "\n",
    "# # # Convert to midpoints\n",
    "# # def convert_to_midpoint(value):\n",
    "# #     if value == \"300 or more\":\n",
    "# #         return 350  # or a more appropriate higher number if known\n",
    "# #     elif value == \"Between 100 and 299\":\n",
    "# #         return 200\n",
    "\n",
    "# # response_merge_states[\"Survey Midpoints\"] = response_merge_states[\"Completed Surveys\"].apply(convert_to_midpoint)\n",
    "\n",
    "# # Bar plot.value_counts().sort_index()\n",
    "# response_merge_states[\"Completed Surveys\"].plot(kind=\"bar\", color='skyblue')\n",
    "# plt.xlabel('Survey Categories')\n",
    "# plt.ylabel('Counts')\n",
    "# plt.title('Distribution of Completed Surveys')\n",
    "# # plt.xticks(ticks=[0,1], labels=[\"FEWER THAN 50\",\"300 or more\", \"Between 100 and 299\",\n",
    "# #                           \"Fewer than 100\"], rotation=45)\n",
    "# plt.show()"
   ]
  },
  {
   "cell_type": "markdown",
   "id": "72bf909d",
   "metadata": {},
   "source": [
    "# Code for creating files.\n",
    "Files will be ported to Maven and PowerBI"
   ]
  },
  {
   "cell_type": "code",
   "execution_count": null,
   "id": "10f943e4",
   "metadata": {},
   "outputs": [],
   "source": [
    "#response_merge_states.to_csv('file_name', encoding='utf-8', index=False)"
   ]
  },
  {
   "cell_type": "code",
   "execution_count": null,
   "id": "ec38c5e6",
   "metadata": {},
   "outputs": [],
   "source": [
    "#sampled_response = response_merge_states.sample(n=100, random_state=42)"
   ]
  },
  {
   "cell_type": "code",
   "execution_count": null,
   "id": "27c66dd1",
   "metadata": {},
   "outputs": [],
   "source": [
    "#sampled_response.to_csv('sampled_data',encoding='utf-8',index=False)"
   ]
  },
  {
   "cell_type": "code",
   "execution_count": null,
   "id": "f4195953",
   "metadata": {},
   "outputs": [],
   "source": [
    "##naturalearth_lowres is depricated and needed to create a new json file for the heatmap.\n",
    "\n",
    "# Load the GeoJSON\n",
    "gdf = gpd.read_file(\"geo_data.json\")\n",
    "\n",
    "# Inspect the first row\n",
    "print(gdf.iloc[50])"
   ]
  },
  {
   "cell_type": "code",
   "execution_count": null,
   "id": "b076c88f",
   "metadata": {},
   "outputs": [],
   "source": [
    "avg_response = response_merge_states.groupby('State')['Response Rate (%)'].mean()\n",
    "avg_response\n",
    "\n",
    "nan_df = avg_response.isna()\n",
    "print(nan_df)\n",
    "\n",
    "# m = folium.Map([43,-100],zoom_start=4)\n",
    "\n",
    "# folium.Choropleth(\n",
    "#     geo_data=\"geo_data.json\",\n",
    "#     name='choropleth',\n",
    "#     data=avg_response,\n",
    "#     columns=[avg_response.index, avg_response.values],\n",
    "#     key_on='feature.id',\n",
    "#     fill_color='YlGn',\n",
    "#     fill_opacity=0.7,\n",
    "#     line_opacity=0.2,\n",
    "#     legend_name='Average Response Rate (%)'\n",
    "# ).add_to(m)\n",
    "\n",
    "# m.save('us_states_response_rate.html')\n",
    "\n",
    "# # df = pd.read_csv(pd.compat.StringIO(data))\n",
    "\n",
    "# # Average response rate by state\n",
    "# avg_response = response_merge_states.groupby('State')['Response Rate (%)'].mean()\n",
    "\n",
    "# # Load the US map data\n",
    "# us_map = gpd.read_file(gpd.datasets.get_path('naturalearth_lowres')).query('continent == \"North America\" and name == \"United States of America\"')\n",
    "# type(us_map)\n",
    "# # Prepare data for Folium\n",
    "# # state_geo = us_map.set_index('name').reindex(avg_response.index)\n",
    "\n",
    "# # # Convert to a format Folium understands\n",
    "# # state_json = state_geo.to_json()\n",
    "\n",
    "# # # Create the map\n",
    "# # m = folium.Map([43, -100], zoom_start=4)\n",
    "\n",
    "# # folium.Choropleth(\n",
    "# #     geo_data=state_json,\n",
    "# #     name='choropleth',\n",
    "# #     data=avg_response,\n",
    "# #     columns=[avg_response.index, avg_response.values],\n",
    "# #     key_on='properties.name',\n",
    "# #     fill_color='YlGn',\n",
    "# #     fill_opacity=0.7,\n",
    "# #     line_opacity=0.2,\n",
    "# #     legend_name='Average Response Rate (%)'\n",
    "# # ).add_to(m)\n",
    "\n",
    "# m.save('us_states_response_rate.html')\n",
    "# # # Get the average response rate for each state\n",
    "# # avg_response_rate = response_merge_states.groupby('State Name')['Response Rate (%)'].mean().reset_index()\n",
    "\n",
    "# # # Get US states' geometries\n",
    "# # world = gpd.read_file(gpd.datasets.get_path('naturalearth_lowres'))\n",
    "# # usa = world[world['name'] == \"United States of America\"].explode().reset_index(drop=True)\n",
    "\n",
    "# # # Merge on the state name\n",
    "# # merged = usa.set_index('name').join(avg_response_rate.set_index('State Name'))\n",
    "\n",
    "# # # Plotting the heatmap using folium\n",
    "# # m = folium.Map(location=[37.0902, -95.7129], zoom_start=4)\n",
    "\n",
    "# # # Convert to geojson for folium\n",
    "# # geo_json_data = merged.to_json()\n",
    "\n",
    "# # geo_json_data\n",
    "\n",
    "\n",
    "# # # Add the heatmap data\n",
    "# # folium.Choropleth(\n",
    "# #     geo_data=geo_json_data,\n",
    "# #     name='choropleth',\n",
    "# #     data=avg_response_rate,\n",
    "# #     columns=['State Name', 'Response Rate (%)'],\n",
    "# #     key_on='properties.State Name',\n",
    "# #     fill_color='YlGn',\n",
    "# #     fill_opacity=0.7,\n",
    "# #     line_opacity=0.2,\n",
    "# #     legend_name='Average Response Rate (%)'\n",
    "# # ).add_to(m)\n",
    "\n",
    "# # folium.LayerControl().add_to(m)\n",
    "# # m.save(\"heatmap.html\")"
   ]
  },
  {
   "cell_type": "code",
   "execution_count": null,
   "id": "3541240e",
   "metadata": {},
   "outputs": [],
   "source": []
  }
 ],
 "metadata": {
  "kernelspec": {
   "display_name": "Python 3 (ipykernel)",
   "language": "python",
   "name": "python3"
  },
  "language_info": {
   "codemirror_mode": {
    "name": "ipython",
    "version": 3
   },
   "file_extension": ".py",
   "mimetype": "text/x-python",
   "name": "python",
   "nbconvert_exporter": "python",
   "pygments_lexer": "ipython3",
   "version": "3.11.4"
  }
 },
 "nbformat": 4,
 "nbformat_minor": 5
}
