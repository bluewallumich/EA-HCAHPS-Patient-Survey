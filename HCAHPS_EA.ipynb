{
 "cells": [
  {
   "cell_type": "markdown",
   "id": "f617c857-e182-4999-952e-08c4ba7ca1f3",
   "metadata": {},
   "source": [
    "# Exploratory Anlysis of HC data"
   ]
  },
  {
   "cell_type": "code",
   "execution_count": 1,
   "id": "2b042978-f11e-45fa-b390-1bc17896a3fc",
   "metadata": {
    "tags": []
   },
   "outputs": [],
   "source": [
    "# module imports\n",
    "import pandas as pd\n",
    "import os"
   ]
  },
  {
   "cell_type": "code",
   "execution_count": 2,
   "id": "5e4f7a07",
   "metadata": {},
   "outputs": [],
   "source": [
    "pd.set_option('display.max_colwidth', None)"
   ]
  },
  {
   "cell_type": "code",
   "execution_count": 3,
   "id": "6c481477-9d4e-4e19-9cec-33bb29fec8f1",
   "metadata": {
    "tags": []
   },
   "outputs": [],
   "source": [
    "path = r'C:\\Users\\awnet\\Documents\\GitHub\\HCAHPSPatientSurvey\\HCAHPSPatientSurveyFiles\\data_tables'"
   ]
  },
  {
   "cell_type": "code",
   "execution_count": 4,
   "id": "0716745e-6ea8-4152-afc4-c4d0bd07cb75",
   "metadata": {},
   "outputs": [],
   "source": [
    "##names = ['measures','national_results','questions','reports','responses','states','state_results']\n",
    "df_list = []\n",
    "os.chdir(path)\n",
    "for file in os.listdir():\n",
    "    if file.endswith(\".csv\"):\n",
    "        df_list.append(pd.read_csv(file))"
   ]
  },
  {
   "cell_type": "code",
   "execution_count": 5,
   "id": "21b2d860-3387-4a54-82af-6851a0403aba",
   "metadata": {
    "tags": []
   },
   "outputs": [],
   "source": [
    "measures_df = df_list[0]\n",
    "national_results_df = df_list[1]\n",
    "questions_df = df_list[2]\n",
    "reports_df = df_list[3]\n",
    "responses_df = df_list[4]\n",
    "states_df = df_list[5]\n",
    "state_results_df = df_list[6]"
   ]
  },
  {
   "cell_type": "code",
   "execution_count": 13,
   "id": "b7324dc9-218f-412d-979b-d775bd57ea27",
   "metadata": {
    "tags": []
   },
   "outputs": [
    {
     "data": {
      "text/html": [
       "<div>\n",
       "<style scoped>\n",
       "    .dataframe tbody tr th:only-of-type {\n",
       "        vertical-align: middle;\n",
       "    }\n",
       "\n",
       "    .dataframe tbody tr th {\n",
       "        vertical-align: top;\n",
       "    }\n",
       "\n",
       "    .dataframe thead th {\n",
       "        text-align: right;\n",
       "    }\n",
       "</style>\n",
       "<table border=\"1\" class=\"dataframe\">\n",
       "  <thead>\n",
       "    <tr style=\"text-align: right;\">\n",
       "      <th></th>\n",
       "      <th>Release Period</th>\n",
       "      <th>State</th>\n",
       "      <th>Facility ID</th>\n",
       "      <th>Completed Surveys</th>\n",
       "      <th>Response Rate (%)</th>\n",
       "    </tr>\n",
       "  </thead>\n",
       "  <tbody>\n",
       "    <tr>\n",
       "      <th>0</th>\n",
       "      <td>07_2015</td>\n",
       "      <td>AL</td>\n",
       "      <td>10001</td>\n",
       "      <td>300 or more</td>\n",
       "      <td>27</td>\n",
       "    </tr>\n",
       "    <tr>\n",
       "      <th>1</th>\n",
       "      <td>07_2015</td>\n",
       "      <td>AL</td>\n",
       "      <td>10005</td>\n",
       "      <td>300 or more</td>\n",
       "      <td>37</td>\n",
       "    </tr>\n",
       "    <tr>\n",
       "      <th>2</th>\n",
       "      <td>07_2015</td>\n",
       "      <td>AL</td>\n",
       "      <td>10006</td>\n",
       "      <td>300 or more</td>\n",
       "      <td>25</td>\n",
       "    </tr>\n",
       "    <tr>\n",
       "      <th>3</th>\n",
       "      <td>07_2015</td>\n",
       "      <td>AL</td>\n",
       "      <td>10007</td>\n",
       "      <td>Between 100 and 299</td>\n",
       "      <td>30</td>\n",
       "    </tr>\n",
       "    <tr>\n",
       "      <th>4</th>\n",
       "      <td>07_2015</td>\n",
       "      <td>AL</td>\n",
       "      <td>10008</td>\n",
       "      <td>Fewer than 100</td>\n",
       "      <td>28</td>\n",
       "    </tr>\n",
       "  </tbody>\n",
       "</table>\n",
       "</div>"
      ],
      "text/plain": [
       "  Release Period State Facility ID    Completed Surveys Response Rate (%)\n",
       "0        07_2015    AL       10001          300 or more                27\n",
       "1        07_2015    AL       10005          300 or more                37\n",
       "2        07_2015    AL       10006          300 or more                25\n",
       "3        07_2015    AL       10007  Between 100 and 299                30\n",
       "4        07_2015    AL       10008       Fewer than 100                28"
      ]
     },
     "execution_count": 13,
     "metadata": {},
     "output_type": "execute_result"
    }
   ],
   "source": [
    "responses_df.head()"
   ]
  },
  {
   "cell_type": "code",
   "execution_count": 15,
   "id": "d4d9e25e-e2d4-4561-b93c-25bc1bebd076",
   "metadata": {
    "tags": []
   },
   "outputs": [],
   "source": [
    "responses_df['Release Period'] = responses_df['Release Period'].str.replace('_','/')"
   ]
  },
  {
   "cell_type": "code",
   "execution_count": 18,
   "id": "a805e049-1639-4c16-b48c-7b3316db3a35",
   "metadata": {},
   "outputs": [
    {
     "data": {
      "text/plain": [
       "array(['300 or more', 'Between 100 and 299', 'Fewer than 100', ...,\n",
       "       '3647', '3111', '4186'], dtype=object)"
      ]
     },
     "execution_count": 18,
     "metadata": {},
     "output_type": "execute_result"
    }
   ],
   "source": [
    "responses_df['Completed Surveys'].unique()"
   ]
  },
  {
   "cell_type": "code",
   "execution_count": null,
   "id": "d0a8c7f1",
   "metadata": {},
   "outputs": [],
   "source": []
  }
 ],
 "metadata": {
  "kernelspec": {
   "display_name": "Python 3 (ipykernel)",
   "language": "python",
   "name": "python3"
  },
  "language_info": {
   "codemirror_mode": {
    "name": "ipython",
    "version": 3
   },
   "file_extension": ".py",
   "mimetype": "text/x-python",
   "name": "python",
   "nbconvert_exporter": "python",
   "pygments_lexer": "ipython3",
   "version": "3.11.4"
  }
 },
 "nbformat": 4,
 "nbformat_minor": 5
}
